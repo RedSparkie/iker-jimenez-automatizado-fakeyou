{
  "nbformat": 4,
  "nbformat_minor": 0,
  "metadata": {
    "colab": {
      "provenance": []
    },
    "kernelspec": {
      "name": "python3",
      "display_name": "Python 3"
    },
    "language_info": {
      "name": "python"
    }
  },
  "cells": [
    {
      "cell_type": "markdown",
      "source": [
        "# <b><font color=\"pink\" size=\"+2\"> Código creado por Cagliostro\n",
        "\n",
        "Última actualización: 04/03/2023.\n",
        "\n",
        "Agradecimientos a:\n",
        "\n",
        "-NVIDIA, por crear la tecnología [Tacotron](https://github.com/NVIDIA/tacotron2).\n",
        "\n",
        "-La comunidad de [FakeYou](https://) en español.\n",
        "\n",
        "-Ediciones Pakirri, *sciunt qui sunt*."
      ],
      "metadata": {
        "id": "HYD5TTCPeS62"
      }
    },
    {
      "cell_type": "markdown",
      "source": [
        "## **1** Preparamos el cuaderno"
      ],
      "metadata": {
        "id": "esWUXmhE-1FJ"
      }
    },
    {
      "cell_type": "code",
      "source": [
        "#@markdown ## **1.1** Descargamos las dependencias\n",
        "\n",
        "!pip install pydub\n",
        "!pip install numpy\n",
        "!pip install yt-dlp\n",
        "!mkdir audios\n",
        "!mkdir pinkfloyd\n",
        "!mkdir resultado"
      ],
      "metadata": {
        "id": "QbGcuBKw_BDp",
        "cellView": "form"
      },
      "execution_count": null,
      "outputs": []
    },
    {
      "cell_type": "code",
      "source": [
        "#@markdown ## **1.2** Descargamos el temita de Pink Floyd jamón y se guarda en la carpeta (/content/pinkfloyd)\n",
        "\n",
        "!yt-dlp -f 'bestaudio[ext=mp3]/best[ext=mp3]/bestaudio/best' -x --audio-format mp3 --audio-quality 320K https://www.youtube.com/watch?v=cWGE9Gi0bB0 -o '/content/pinkfloyd/background.%(ext)s'\n"
      ],
      "metadata": {
        "id": "UWw9n-0JARK2",
        "cellView": "form"
      },
      "execution_count": null,
      "outputs": []
    },
    {
      "cell_type": "markdown",
      "source": [
        "## **2** Ahora hay que subir los audios que quieras unir a la carpeta audios (/content/audios)"
      ],
      "metadata": {
        "id": "AjXFCSEVEG6a"
      }
    },
    {
      "cell_type": "code",
      "source": [
        "#@markdown ## **2.1** Subimos los archivos\n",
        "from google.colab import files\n",
        "import os\n",
        "\n",
        "# Abrir cuadro de diálogo para seleccionar archivos\n",
        "uploaded = files.upload()\n",
        "\n",
        "# Mover los archivos seleccionados a la carpeta \"/content/audios\"\n",
        "for filename in uploaded.keys():\n",
        "  source_path = filename\n",
        "  destination_path = os.path.join('/content/audios/', filename)\n",
        "  os.rename(source_path, destination_path)\n"
      ],
      "metadata": {
        "colab": {
          "base_uri": "https://localhost:8080/",
          "height": 73
        },
        "id": "6osJTHzoE0jO",
        "outputId": "ab38c793-0858-4681-bbbc-599e3355f489",
        "cellView": "form"
      },
      "execution_count": null,
      "outputs": [
        {
          "output_type": "display_data",
          "data": {
            "text/plain": [
              "<IPython.core.display.HTML object>"
            ],
            "text/html": [
              "\n",
              "     <input type=\"file\" id=\"files-0fefd48c-c310-4e94-960a-6842b4c601a7\" name=\"files[]\" multiple disabled\n",
              "        style=\"border:none\" />\n",
              "     <output id=\"result-0fefd48c-c310-4e94-960a-6842b4c601a7\">\n",
              "      Upload widget is only available when the cell has been executed in the\n",
              "      current browser session. Please rerun this cell to enable.\n",
              "      </output>\n",
              "      <script>// Copyright 2017 Google LLC\n",
              "//\n",
              "// Licensed under the Apache License, Version 2.0 (the \"License\");\n",
              "// you may not use this file except in compliance with the License.\n",
              "// You may obtain a copy of the License at\n",
              "//\n",
              "//      http://www.apache.org/licenses/LICENSE-2.0\n",
              "//\n",
              "// Unless required by applicable law or agreed to in writing, software\n",
              "// distributed under the License is distributed on an \"AS IS\" BASIS,\n",
              "// WITHOUT WARRANTIES OR CONDITIONS OF ANY KIND, either express or implied.\n",
              "// See the License for the specific language governing permissions and\n",
              "// limitations under the License.\n",
              "\n",
              "/**\n",
              " * @fileoverview Helpers for google.colab Python module.\n",
              " */\n",
              "(function(scope) {\n",
              "function span(text, styleAttributes = {}) {\n",
              "  const element = document.createElement('span');\n",
              "  element.textContent = text;\n",
              "  for (const key of Object.keys(styleAttributes)) {\n",
              "    element.style[key] = styleAttributes[key];\n",
              "  }\n",
              "  return element;\n",
              "}\n",
              "\n",
              "// Max number of bytes which will be uploaded at a time.\n",
              "const MAX_PAYLOAD_SIZE = 100 * 1024;\n",
              "\n",
              "function _uploadFiles(inputId, outputId) {\n",
              "  const steps = uploadFilesStep(inputId, outputId);\n",
              "  const outputElement = document.getElementById(outputId);\n",
              "  // Cache steps on the outputElement to make it available for the next call\n",
              "  // to uploadFilesContinue from Python.\n",
              "  outputElement.steps = steps;\n",
              "\n",
              "  return _uploadFilesContinue(outputId);\n",
              "}\n",
              "\n",
              "// This is roughly an async generator (not supported in the browser yet),\n",
              "// where there are multiple asynchronous steps and the Python side is going\n",
              "// to poll for completion of each step.\n",
              "// This uses a Promise to block the python side on completion of each step,\n",
              "// then passes the result of the previous step as the input to the next step.\n",
              "function _uploadFilesContinue(outputId) {\n",
              "  const outputElement = document.getElementById(outputId);\n",
              "  const steps = outputElement.steps;\n",
              "\n",
              "  const next = steps.next(outputElement.lastPromiseValue);\n",
              "  return Promise.resolve(next.value.promise).then((value) => {\n",
              "    // Cache the last promise value to make it available to the next\n",
              "    // step of the generator.\n",
              "    outputElement.lastPromiseValue = value;\n",
              "    return next.value.response;\n",
              "  });\n",
              "}\n",
              "\n",
              "/**\n",
              " * Generator function which is called between each async step of the upload\n",
              " * process.\n",
              " * @param {string} inputId Element ID of the input file picker element.\n",
              " * @param {string} outputId Element ID of the output display.\n",
              " * @return {!Iterable<!Object>} Iterable of next steps.\n",
              " */\n",
              "function* uploadFilesStep(inputId, outputId) {\n",
              "  const inputElement = document.getElementById(inputId);\n",
              "  inputElement.disabled = false;\n",
              "\n",
              "  const outputElement = document.getElementById(outputId);\n",
              "  outputElement.innerHTML = '';\n",
              "\n",
              "  const pickedPromise = new Promise((resolve) => {\n",
              "    inputElement.addEventListener('change', (e) => {\n",
              "      resolve(e.target.files);\n",
              "    });\n",
              "  });\n",
              "\n",
              "  const cancel = document.createElement('button');\n",
              "  inputElement.parentElement.appendChild(cancel);\n",
              "  cancel.textContent = 'Cancel upload';\n",
              "  const cancelPromise = new Promise((resolve) => {\n",
              "    cancel.onclick = () => {\n",
              "      resolve(null);\n",
              "    };\n",
              "  });\n",
              "\n",
              "  // Wait for the user to pick the files.\n",
              "  const files = yield {\n",
              "    promise: Promise.race([pickedPromise, cancelPromise]),\n",
              "    response: {\n",
              "      action: 'starting',\n",
              "    }\n",
              "  };\n",
              "\n",
              "  cancel.remove();\n",
              "\n",
              "  // Disable the input element since further picks are not allowed.\n",
              "  inputElement.disabled = true;\n",
              "\n",
              "  if (!files) {\n",
              "    return {\n",
              "      response: {\n",
              "        action: 'complete',\n",
              "      }\n",
              "    };\n",
              "  }\n",
              "\n",
              "  for (const file of files) {\n",
              "    const li = document.createElement('li');\n",
              "    li.append(span(file.name, {fontWeight: 'bold'}));\n",
              "    li.append(span(\n",
              "        `(${file.type || 'n/a'}) - ${file.size} bytes, ` +\n",
              "        `last modified: ${\n",
              "            file.lastModifiedDate ? file.lastModifiedDate.toLocaleDateString() :\n",
              "                                    'n/a'} - `));\n",
              "    const percent = span('0% done');\n",
              "    li.appendChild(percent);\n",
              "\n",
              "    outputElement.appendChild(li);\n",
              "\n",
              "    const fileDataPromise = new Promise((resolve) => {\n",
              "      const reader = new FileReader();\n",
              "      reader.onload = (e) => {\n",
              "        resolve(e.target.result);\n",
              "      };\n",
              "      reader.readAsArrayBuffer(file);\n",
              "    });\n",
              "    // Wait for the data to be ready.\n",
              "    let fileData = yield {\n",
              "      promise: fileDataPromise,\n",
              "      response: {\n",
              "        action: 'continue',\n",
              "      }\n",
              "    };\n",
              "\n",
              "    // Use a chunked sending to avoid message size limits. See b/62115660.\n",
              "    let position = 0;\n",
              "    do {\n",
              "      const length = Math.min(fileData.byteLength - position, MAX_PAYLOAD_SIZE);\n",
              "      const chunk = new Uint8Array(fileData, position, length);\n",
              "      position += length;\n",
              "\n",
              "      const base64 = btoa(String.fromCharCode.apply(null, chunk));\n",
              "      yield {\n",
              "        response: {\n",
              "          action: 'append',\n",
              "          file: file.name,\n",
              "          data: base64,\n",
              "        },\n",
              "      };\n",
              "\n",
              "      let percentDone = fileData.byteLength === 0 ?\n",
              "          100 :\n",
              "          Math.round((position / fileData.byteLength) * 100);\n",
              "      percent.textContent = `${percentDone}% done`;\n",
              "\n",
              "    } while (position < fileData.byteLength);\n",
              "  }\n",
              "\n",
              "  // All done.\n",
              "  yield {\n",
              "    response: {\n",
              "      action: 'complete',\n",
              "    }\n",
              "  };\n",
              "}\n",
              "\n",
              "scope.google = scope.google || {};\n",
              "scope.google.colab = scope.google.colab || {};\n",
              "scope.google.colab._files = {\n",
              "  _uploadFiles,\n",
              "  _uploadFilesContinue,\n",
              "};\n",
              "})(self);\n",
              "</script> "
            ]
          },
          "metadata": {}
        },
        {
          "output_type": "stream",
          "name": "stdout",
          "text": [
            "Saving descarga.wav to descarga.wav\n"
          ]
        }
      ]
    },
    {
      "cell_type": "markdown",
      "source": [
        "## **3** Acabamos"
      ],
      "metadata": {
        "id": "9l0R2CfmEkBt"
      }
    },
    {
      "cell_type": "code",
      "source": [
        "#@markdown ## **3.1** Unimos los audios\n",
        "import os\n",
        "import librosa\n",
        "import soundfile as sf\n",
        "from pydub import AudioSegment\n",
        "import numpy as np\n",
        "\n",
        "# Ruta a la carpeta con los archivos de audio\n",
        "audio_folder = \"/content/audios/\"\n",
        "\n",
        "# Obtener la lista de archivos de audio en la carpeta y ordenarlos alfanuméricamente\n",
        "audio_files = os.listdir(audio_folder)\n",
        "audio_files.sort()\n",
        "\n",
        "# Cargar cada archivo de audio y concatenarlos en uno solo con 600ms de silencio\n",
        "concatenated_audio = None\n",
        "for file in audio_files:\n",
        "    # Cargar el archivo de audio\n",
        "    audio, sr = librosa.load(os.path.join(audio_folder, file), sr=None, mono=False)\n",
        "\n",
        "    # Agregar 600ms de silencio al final del archivo de audio\n",
        "    silence_duration = 0.6  # Duración del silencio en segundos\n",
        "    num_samples_silence = int(silence_duration * sr)\n",
        "    silence = np.zeros(num_samples_silence)\n",
        "    audio_with_silence = np.concatenate((audio, silence), axis=0)\n",
        "\n",
        "    # Concatenar los archivos\n",
        "    if concatenated_audio is None:\n",
        "        concatenated_audio = audio_with_silence\n",
        "    else:\n",
        "        concatenated_audio = np.concatenate((concatenated_audio, audio_with_silence), axis=0)\n",
        "\n",
        "# Calcular la duración total del audio resultante\n",
        "duration = librosa.get_duration(y=concatenated_audio, sr=sr)\n",
        "\n",
        "# Ruta a la canción de Pink Floyd\n",
        "song_path = \"/content/pinkfloyd/background.mp3\"\n",
        "\n",
        "# Cargar la canción y ajustar su duración a la duración del audio resultante\n",
        "song = AudioSegment.from_file(song_path, format=\"mp3\")\n",
        "song = song[:int(duration*1000)]\n",
        "song = song - 2 # Reducir el volumen en 2 dB\n",
        "\n",
        "# Convertir el audio concatenado en un archivo de sonido y guardarlo en disco\n",
        "sf.write(\"/content/resultado/final.wav\", concatenated_audio.T, sr)\n",
        "\n",
        "# Abrir el archivo de sonido y agregar la canción de Pink Floyd en segundo plano\n",
        "final_audio = AudioSegment.from_wav(\"/content/resultado/final.wav\")\n",
        "final_audio = final_audio.overlay(song, loop=True)\n",
        "\n",
        "# Guardar el audio final en disco\n",
        "final_audio.export(\"/content/resultado/final_con_cancion.mp3\", format=\"mp3\")\n"
      ],
      "metadata": {
        "cellView": "form",
        "id": "OWUici6jbxT1"
      },
      "execution_count": null,
      "outputs": []
    },
    {
      "cell_type": "code",
      "source": [
        "#@markdown ## **3.2** Descargamos el audio final\n",
        "from google.colab import files\n",
        "\n",
        "# Descargar archivo\n",
        "files.download('/content/resultado/final_con_cancion.mp3')\n"
      ],
      "metadata": {
        "colab": {
          "base_uri": "https://localhost:8080/",
          "height": 17
        },
        "id": "sqrXTij4FcIk",
        "outputId": "01116dcd-28cf-4a29-91b0-6863d75d2342",
        "cellView": "form"
      },
      "execution_count": null,
      "outputs": [
        {
          "output_type": "display_data",
          "data": {
            "text/plain": [
              "<IPython.core.display.Javascript object>"
            ],
            "application/javascript": [
              "\n",
              "    async function download(id, filename, size) {\n",
              "      if (!google.colab.kernel.accessAllowed) {\n",
              "        return;\n",
              "      }\n",
              "      const div = document.createElement('div');\n",
              "      const label = document.createElement('label');\n",
              "      label.textContent = `Downloading \"${filename}\": `;\n",
              "      div.appendChild(label);\n",
              "      const progress = document.createElement('progress');\n",
              "      progress.max = size;\n",
              "      div.appendChild(progress);\n",
              "      document.body.appendChild(div);\n",
              "\n",
              "      const buffers = [];\n",
              "      let downloaded = 0;\n",
              "\n",
              "      const channel = await google.colab.kernel.comms.open(id);\n",
              "      // Send a message to notify the kernel that we're ready.\n",
              "      channel.send({})\n",
              "\n",
              "      for await (const message of channel.messages) {\n",
              "        // Send a message to notify the kernel that we're ready.\n",
              "        channel.send({})\n",
              "        if (message.buffers) {\n",
              "          for (const buffer of message.buffers) {\n",
              "            buffers.push(buffer);\n",
              "            downloaded += buffer.byteLength;\n",
              "            progress.value = downloaded;\n",
              "          }\n",
              "        }\n",
              "      }\n",
              "      const blob = new Blob(buffers, {type: 'application/binary'});\n",
              "      const a = document.createElement('a');\n",
              "      a.href = window.URL.createObjectURL(blob);\n",
              "      a.download = filename;\n",
              "      div.appendChild(a);\n",
              "      a.click();\n",
              "      div.remove();\n",
              "    }\n",
              "  "
            ]
          },
          "metadata": {}
        },
        {
          "output_type": "display_data",
          "data": {
            "text/plain": [
              "<IPython.core.display.Javascript object>"
            ],
            "application/javascript": [
              "download(\"download_6d61a4ee-a319-47e1-953a-32e921c74afd\", \"final_con_cancion.mp3\", 1107309)"
            ]
          },
          "metadata": {}
        }
      ]
    }
  ]
}